{
  "nbformat": 4,
  "nbformat_minor": 0,
  "metadata": {
    "colab": {
      "provenance": [],
      "toc_visible": true
    },
    "kernelspec": {
      "name": "python3",
      "display_name": "Python 3"
    },
    "language_info": {
      "name": "python"
    }
  },
  "cells": [
    {
      "cell_type": "markdown",
      "source": [
        "Name: Rehaan Khodabocus\n",
        "ID: 2403_27573\n",
        "Cohort: BCNS/24A/FT1\n",
        "\n",
        "Python Practice Assignment\n",
        "Additionally, all the files can be accessed through my github repo: https://github.com/RehaanKhod/Python-Assignment.\n",
        "\n",
        "\n",
        "To access them directly through terminal, follow these steps:\n",
        "\n",
        "Make sure you have git installed.\n",
        "\n",
        "```bash\n",
        "# git\n",
        "```\n",
        "\n",
        "Changing directory to your Desktop\n",
        "```bash\n",
        "# cd Desktop\n",
        "```\n",
        "\n",
        "Clonning the repo to your Desktop\n",
        "```bash\n",
        "# git clone https://github.com/RehaanKhod/Python-Assignment\n",
        "```\n",
        "The CLI code will work on Linux and MacOS.\n",
        "\n",
        "\n",
        "\n",
        "\n"
      ],
      "metadata": {
        "id": "SLiQuZz3UxEf"
      }
    },
    {
      "cell_type": "markdown",
      "source": [
        "# Q1"
      ],
      "metadata": {
        "id": "qG8G19XLNTNv"
      }
    },
    {
      "cell_type": "code",
      "execution_count": null,
      "metadata": {
        "id": "nj7SdXlaNQPM"
      },
      "outputs": [],
      "source": [
        "n = int(input(\"Enter the size of the triangle: \")) # asks the user to enter the size of the triangle\n",
        "while n < 1:\n",
        "    print(\"Error, triangle size cannot by less than 1, please try again.\")\n",
        "    n = int(input(\"Enter the size of the triangle: \")) # triangle size cannot be less than 1, it then asks the user to enter the size of the triangle again.\n",
        "\n",
        "for i in range(1, n+1): # for loop to iterate through the range of 1 to n+1\n",
        "    space = n - i\n",
        "    pattern = 2*i-1\n",
        "\n",
        "    print(\" \" * space + \"*\" * pattern)# prints the space and pattern\n",
        "\n",
        "for i in range(n-1, 0, -1):# for the loop to iterate  for the second half of the triangle\n",
        "    space = n - i\n",
        "    pattern = 2*i-1\n",
        "\n",
        "    print(\" \"*space+\"*\"*pattern) # prints the seoond half of the triangle"
      ]
    },
    {
      "cell_type": "markdown",
      "source": [
        "# Q2"
      ],
      "metadata": {
        "id": "mzFeYKhZNcoj"
      }
    },
    {
      "cell_type": "code",
      "source": [
        "String1 = str(input(\"Enter the first String: \")) #input the first string\n",
        "String2 = str(input(\"Enter the second String: \"))#input the second string\n",
        "\n",
        "String1 = String1.lower()\n",
        "String2 = String2.lower()\n",
        "# converts both string to lowercase\n",
        "\n",
        "sortedString1 = sorted(String1)\n",
        "sortedString2 = sorted(String2)\n",
        "# sorts both strings, separated each character from the words so they can be compared\n",
        "\n",
        "print(\"String1 after sorting: \", sortedString1)\n",
        "print(\"String2 after sorting: \", sortedString2)\n",
        "# outputs the sorted strings\n",
        "\n",
        "def AnagramCheck():\n",
        "    if (sortedString1 == sortedString2):# compares the firsr sorted string with the second sorted string\n",
        "        return(String1, \" and \" , String2, \" are anagrams\")\n",
        "    else:\n",
        "        return(String1, \" and \" , String2, \" are NOT anagrams\")\n",
        "    # if both sorted string are the same, then they are anagrams. if not they are not anagrams\n",
        "print(AnagramCheck())# prints the result of the anagram\n",
        "\n"
      ],
      "metadata": {
        "colab": {
          "base_uri": "https://localhost:8080/"
        },
        "id": "RWwZDOB4NgF1",
        "outputId": "767c55be-3c0e-490c-a3d2-f0a1775349ff"
      },
      "execution_count": null,
      "outputs": [
        {
          "output_type": "stream",
          "name": "stdout",
          "text": [
            "Enter the first String: listen\n",
            "Enter the second String: silent\n",
            "String1 after sorting:  ['e', 'i', 'l', 'n', 's', 't']\n",
            "String2 after sorting:  ['e', 'i', 'l', 'n', 's', 't']\n",
            "('listen', ' and ', 'silent', ' are anagrams')\n"
          ]
        }
      ]
    },
    {
      "cell_type": "markdown",
      "source": [
        "# Q3"
      ],
      "metadata": {
        "id": "ihYINdFmOZEu"
      }
    },
    {
      "cell_type": "code",
      "source": [
        "num1 = int(input(\"Please enter the first number: \"))\n",
        "num2 = int(input(\"Please enter the second number: \"))\n",
        "# input the first and second number\n",
        "\n",
        "if num2 == 0:# case to check if second number if zero.\n",
        "    print(\"Second Number cannot be 0.\")\n",
        "    num2 = int(input(\"Please enter the Second Number Again: \"))\n",
        "    # if num2 is zero, then the user has to input again\n",
        "\n",
        "sum = num1 + num2\n",
        "difference = num1 - num2\n",
        "product = num1 * num2\n",
        "quotient = num1/num2\n",
        "#doing the calulations for sum, differenece, multiplication, and division.\n",
        "\n",
        "# Question 3 Part 1\n",
        "print(\"For Question 3 Part 1: \")\n",
        "print(\"The sum of the two numbers are: \", sum)\n",
        "print(\"The difference of the two numbers are: \", difference)\n",
        "print(\"The product of the two numbers are: \", product)\n",
        "print(\"The division of the two numbers are: \", quotient)\n",
        "# printing the messages\n",
        "\n",
        "# Question 3 Part 2\n",
        "print(\"For Question 3 Part 2: \")\n",
        "remainder = num1 % num2 # using modulo to get remainder\n",
        "print(\"The remainder of the first number divided by the second number is: \", remainder)\n",
        "\n",
        "# Question 3 Part 3\n",
        "print(\"Question 3 Part 3\")\n",
        "power = pow(num1, num2)# using pow to put num1 to the power of num2\n",
        "print(\"The first number raised to the second number\", power)\n",
        "\n",
        "\n",
        "print(\"Thank You.\")"
      ],
      "metadata": {
        "colab": {
          "base_uri": "https://localhost:8080/"
        },
        "id": "rcgxTfmLObgR",
        "outputId": "c96ca638-b2ee-4549-c883-d042b0c268d0"
      },
      "execution_count": null,
      "outputs": [
        {
          "output_type": "stream",
          "name": "stdout",
          "text": [
            "Please enter the first number: 10\n",
            "Please enter the second number: 10\n",
            "For Question 3 Part 1: \n",
            "The sum of the two numbers are:  20\n",
            "The difference of the two numbers are:  0\n",
            "The product of the two numbers are:  100\n",
            "The division of the two numbers are:  1.0\n",
            "For Question 3 Part 2: \n",
            "The remainder of the first number divided by the second number is:  0\n",
            "Question 3 Part 3\n",
            "The first number raised to the second number 10000000000\n",
            "Thank You.\n"
          ]
        }
      ]
    },
    {
      "cell_type": "markdown",
      "source": [
        "# Q4"
      ],
      "metadata": {
        "id": "iMhCQMp3RZYj"
      }
    },
    {
      "cell_type": "code",
      "source": [
        "String = str(input(\"Please enter the String: \"))# the input string\n",
        "vowels = [\"a\", \"e\", \"i\", \"o\", \"u\"]# creating a list to store all the vowels\n",
        "\n",
        "if not String:#if there was no string that was input, the user is prompted to input again\n",
        "    print(\"The input string is empty. Please try again.\")\n",
        "    String = str(input(\"Please enter the String: \"))\n",
        "\n",
        "def VowelCheck():#function to check for vowels\n",
        "    vowelcount = 0#vowel count, if there is a vowel it is then incremented\n",
        "    for i in String:    # loops over each charcter in the input string\n",
        "        if i.lower() in vowels:#converst each character in the string into lower case and compares it to the list of vowels\n",
        "            vowelcount += 1# if there is a vowel in the string that matches a vowel in the list, then vowelcount is incremented by 1\n",
        "    return vowelcount# we then get the value for vowelcount\n",
        "vowelcount = VowelCheck()# we then call the function to get the value of vowelcount\n",
        "\n",
        "if vowelcount == 0:# condition to check if there are no vowels in the string\n",
        "    print(\"Vowel count is 0\")\n",
        "else:\n",
        "    print(\"The number of vowels in, \", String, \"is\", vowelcount)\n",
        "\n",
        "rep = {}# creating a dictionary to stoe the frequency of each character\n",
        "for j in String:#loops through the string\n",
        "    if j in rep:# if the character is already in the dictionary  the value is incremented by 1\n",
        "        rep[j] += 1\n",
        "    else:# if the character is not in the dictionary, the value is set to 1\n",
        "        rep[j] = 1\n",
        "print(\"The frequency of each character is: \", rep)\n",
        "\n",
        "if all(value == 1 for value in rep.values()):# if all the values in the dictionary are 1 there are no repeating characters\n",
        "    print(\"Therea are no repeating characters\")\n",
        "else:\n",
        "    maxount = max(rep.values())# if there are repeating characters we then get the maximum value in the dictionary\n",
        "    repchar = [char for char, count in rep.items() if count == maxount]#getting the character that has the max value\n",
        "    if len(repchar) == 1:\n",
        "        print(f\"The most frequent character is '{repchar[0]}' with {maxount} repetitions.\")\n",
        "    else:\n",
        "        print(f\"The most frequent characters are {', '.join(repchar)} with {maxount} repetitions.\")\n",
        "\n"
      ],
      "metadata": {
        "colab": {
          "base_uri": "https://localhost:8080/"
        },
        "id": "A1KjacawRbwy",
        "outputId": "28db3ce7-d7c8-4819-905c-cdfd74cda2ad"
      },
      "execution_count": null,
      "outputs": [
        {
          "output_type": "stream",
          "name": "stdout",
          "text": [
            "Please enter the String: Hello World\n",
            "The number of vowels in,  Hello World is 3\n",
            "The frequency of each character is:  {'H': 1, 'e': 1, 'l': 3, 'o': 2, ' ': 1, 'W': 1, 'r': 1, 'd': 1}\n",
            "The most frequent character is 'l' with 3 repetitions.\n"
          ]
        }
      ]
    },
    {
      "cell_type": "markdown",
      "source": [
        "# Q5\n"
      ],
      "metadata": {
        "id": "PZ-1sQgDTZ3c"
      }
    },
    {
      "cell_type": "code",
      "source": [
        "print(\"1: Ceclsius to Fahrenheit\")\n",
        "print(\"2: Fahrenheit to Ceclsius\")\n",
        "print(\"3: Kelvin to Ceclsius\")\n",
        "# printing a menu for the user to choose with conversion\n",
        "choice = int(input(\"Please enter the converstion. 1, 2 or 3: \"))\n",
        "temperature = float(input(\"Enter the temperature: \"))\n",
        "# input choice and temperature\n",
        "\n",
        "if choice == 1:\n",
        "    if temperature < 273.15:# if choice is 1 and is less than the sepecifies value the user is then prompted to input again\n",
        "        print(\"Invalid Input! Celsius values cannot be below absolute zero (-273.15°C). Please Try Again.\")\n",
        "    else:\n",
        "        ConvertedValue = (temperature * 9/5) + 32# conversion calculation\n",
        "        print(\"The converted temperature from Celsius to Fahreneheit is: \", round(ConvertedValue,2))#output the calculation to 2 dp\n",
        "\n",
        "elif choice == 2:\n",
        "    if temperature < 459.15:# if choice is 2 and is less than the sepecifies value the user is then prompted to input again\n",
        "        print(\"Invalid Input! Fahrenheir values cannot be below absolute zero (-459.67°F). Please try Again.\")\n",
        "    else:\n",
        "        ConvertedValue = (temperature - 32) * (5/9)#conversion calculation\n",
        "        print(\"The converted temperature from Fahrenheit to Celsius is: \", round(ConvertedValue,2))#output the calculation to 2 dp\n",
        "\n",
        "elif choice == 3:\n",
        "    if temperature < 0:# if choice is 3 and is less than the sepecifies value the user is then prompted to input again\n",
        "        print(\"Invalid Output! Kelvin values cannot be absolute zero(OK). Please try Again.\")\n",
        "    else:\n",
        "        ConvertedValue = (temperature - 273.15)#conversion calculation\n",
        "        print(\"The converted temperature from Kelvin to Celsius is: \", round(ConvertedValue,2))#output the calculation to 2 dp\n",
        "else:\n",
        "    print(\"Invalid choice\")#if the user didnt input 1,2, or 3, it is then prompted to input again"
      ],
      "metadata": {
        "id": "z3Ez8PHrTd5U"
      },
      "execution_count": null,
      "outputs": []
    }
  ]
}